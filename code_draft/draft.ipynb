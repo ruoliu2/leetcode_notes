{
 "cells": [
  {
   "cell_type": "code",
   "execution_count": 2,
   "metadata": {},
   "outputs": [],
   "source": [
    "from typing import Counter\n",
    "from pprint import pprint\n",
    "import collections\n",
    "from math import sqrt, log, ceil, floor, factorial, sin, cos, tan, pi\n",
    "inf = float('inf')"
   ]
  },
  {
   "cell_type": "code",
   "execution_count": 2,
   "metadata": {},
   "outputs": [
    {
     "data": {
      "text/plain": [
       "1"
      ]
     },
     "execution_count": 2,
     "metadata": {},
     "output_type": "execute_result"
    }
   ],
   "source": [
    "a = 0\n",
    "a |= 1\n",
    "a"
   ]
  },
  {
   "cell_type": "code",
   "execution_count": null,
   "metadata": {},
   "outputs": [],
   "source": [
    "class Solution:\n",
    "    def smallestRange(self, nums):\n",
    "        new = []  # (number, group)\n",
    "        for i in range(len(nums)):\n",
    "            for n in nums[i]:\n",
    "                new.append((n, i))\n",
    "        new.sort()\n",
    "        i = 0\n",
    "        res = []\n",
    "        count = collections.defaultdict(int)\n",
    "        for j in range(len(new)):\n",
    "            count[new[j][1]] += 1\n",
    "            if len(nums) == len(count):\n",
    "                while count[new[i][1]] > 1:\n",
    "                    count[new[i][1]] -= 1\n",
    "                    i += 1\n",
    "                if not res or res[1] - res[0] > new[j][0] - new[i][0]:\n",
    "                    res = [new[i][0], new[j][0]]\n",
    "        return res"
   ]
  },
  {
   "cell_type": "code",
   "execution_count": null,
   "metadata": {},
   "outputs": [],
   "source": []
  }
 ],
 "metadata": {
  "kernelspec": {
   "display_name": "base",
   "language": "python",
   "name": "python3"
  },
  "language_info": {
   "codemirror_mode": {
    "name": "ipython",
    "version": 3
   },
   "file_extension": ".py",
   "mimetype": "text/x-python",
   "name": "python",
   "nbconvert_exporter": "python",
   "pygments_lexer": "ipython3",
   "version": "3.10.10"
  },
  "orig_nbformat": 4
 },
 "nbformat": 4,
 "nbformat_minor": 2
}
