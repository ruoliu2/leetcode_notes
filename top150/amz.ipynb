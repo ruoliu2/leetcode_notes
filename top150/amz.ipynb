{
 "cells": [
  {
   "cell_type": "markdown",
   "metadata": {},
   "source": [
    "give random question from leetcode top interview 150 list\n"
   ]
  },
  {
   "cell_type": "code",
   "execution_count": 1,
   "metadata": {},
   "outputs": [],
   "source": [
    "from bs4 import BeautifulSoup\n",
    "from selenium import webdriver\n",
    "import time\n",
    "from collections import defaultdict"
   ]
  },
  {
   "cell_type": "code",
   "execution_count": 2,
   "metadata": {},
   "outputs": [],
   "source": [
    "url = \"https://leetcode.com/company/amazon/\"\n",
    "\n",
    "# Get the rendered HTML\n",
    "driver = webdriver.Safari()\n",
    "driver.get(url)\n",
    "time.sleep(3)  # Adjust the sleep time as necessary\n",
    "\n",
    "# Get the rendered HTML\n",
    "html = driver.page_source\n",
    "\n",
    "# Use BeautifulSoup to parse the rendered HTML\n",
    "soup = BeautifulSoup(html, \"html.parser\")\n",
    "\n",
    "driver.quit()"
   ]
  },
  {
   "cell_type": "code",
   "execution_count": 2,
   "metadata": {},
   "outputs": [],
   "source": [
    "# load soup from file\n",
    "with open(\"amz.html\", \"r\") as file:\n",
    "    soup = BeautifulSoup(file, \"html.parser\")"
   ]
  },
  {
   "cell_type": "code",
   "execution_count": 3,
   "metadata": {},
   "outputs": [],
   "source": [
    "# store soup in a file\n",
    "with open(\"amz.html\", \"w\") as file:\n",
    "    file.write(str(soup))"
   ]
  },
  {
   "cell_type": "code",
   "execution_count": 24,
   "metadata": {},
   "outputs": [],
   "source": [
    "questions = soup.find_all(\n",
    "    \"tbody\",\n",
    "    class_=\"reactable-data\",\n",
    ")[\n",
    "    0\n",
    "].find_all(\"tr\")"
   ]
  },
  {
   "cell_type": "code",
   "execution_count": 30,
   "metadata": {},
   "outputs": [
    {
     "data": {
      "text/plain": [
       "<tr>\n",
       "<td label=\" \" value=\"ac\"><span class=\"text-success fa fa-check\"></span></td>\n",
       "<td label=\"#\" value=\"2\">2</td>\n",
       "<td label=\"Title\" value=\"Add Two Numbers\">\n",
       "<div class=\"title-cell__ZGos\"><a data-limit=\"false\" href=\"/problems/add-two-numbers\" title=\"\">Add Two Numbers</a></div>\n",
       "</td>\n",
       "<td label=\"Acceptance\" value=\"43.4\">43.4%</td>\n",
       "<td label=\"Difficulty\" value=\"[object Object]\"><span class=\"label label-warning round\">Medium</span></td>\n",
       "<td label=\"Frequency,[object Object]\" value=\"0.7926856159399518\">\n",
       "<div class=\"wrapper__2vgc\">\n",
       "<div class=\"progress\">\n",
       "<div aria-label=\"Progress Bar\" class=\"progress-bar progress-bar-info\" role=\"progressbar\" style=\"width: 25.118977%;\"></div>\n",
       "</div>\n",
       "</div>\n",
       "</td>\n",
       "</tr>"
      ]
     },
     "execution_count": 30,
     "metadata": {},
     "output_type": "execute_result"
    }
   ],
   "source": [
    "# print first element\n",
    "questions[1]"
   ]
  },
  {
   "cell_type": "code",
   "execution_count": 32,
   "metadata": {},
   "outputs": [],
   "source": [
    "questions_data = []\n",
    "# Loop through each question topic\n",
    "for question in questions:\n",
    "\n",
    "    # parse question by soup\n",
    "    question_soup = BeautifulSoup(str(question), \"html.parser\")\n",
    "\n",
    "    # Extracting the data\n",
    "    number = question_soup.find(\"td\", {\"label\": \"#\"}).text\n",
    "    title_tag = question_soup.find(\"td\", {\"label\": \"Title\"})\n",
    "    title = title_tag[\"value\"]\n",
    "    title_link = title_tag.find(\"a\")[\"href\"]\n",
    "    acceptance = question_soup.find(\"td\", {\"label\": \"Acceptance\"}).text.strip(\"%\")\n",
    "    difficulty = question_soup.find(\"td\", {\"label\": \"Difficulty\"}).find(\"span\").text\n",
    "    frequency = question_soup.find(\"td\", {\"label\": \"Frequency,[object Object]\"}).get(\n",
    "        \"value\"\n",
    "    )\n",
    "\n",
    "    questions_data.append(\n",
    "        {\n",
    "            \"number\": number,\n",
    "            \"title\": title,\n",
    "            \"title_link\": title_link,\n",
    "            \"acceptance\": acceptance,\n",
    "            \"difficulty\": difficulty,\n",
    "            \"frequency\": frequency,\n",
    "        }\n",
    "    )\n",
    "\n",
    "\n",
    "# Print the list\n",
    "# print(question_data)"
   ]
  },
  {
   "cell_type": "code",
   "execution_count": 34,
   "metadata": {},
   "outputs": [
    {
     "data": {
      "text/plain": [
       "[{'number': '1',\n",
       "  'title': 'Two Sum',\n",
       "  'title_link': '/problems/two-sum',\n",
       "  'acceptance': '53.1',\n",
       "  'difficulty': 'Easy',\n",
       "  'frequency': '2.039328799255146'},\n",
       " {'number': '2',\n",
       "  'title': 'Add Two Numbers',\n",
       "  'title_link': '/problems/add-two-numbers',\n",
       "  'acceptance': '43.4',\n",
       "  'difficulty': 'Medium',\n",
       "  'frequency': '0.7926856159399518'}]"
      ]
     },
     "execution_count": 34,
     "metadata": {},
     "output_type": "execute_result"
    }
   ],
   "source": [
    "questions_data[:2]"
   ]
  },
  {
   "cell_type": "code",
   "execution_count": 37,
   "metadata": {},
   "outputs": [
    {
     "data": {
      "text/plain": [
       "{'number': '283',\n",
       " 'title': 'Move Zeroes',\n",
       " 'title_link': '/problems/move-zeroes',\n",
       " 'acceptance': '61.9',\n",
       " 'difficulty': 'Easy',\n",
       " 'frequency': '0.23128105183838518'}"
      ]
     },
     "execution_count": 37,
     "metadata": {},
     "output_type": "execute_result"
    }
   ],
   "source": [
    "# give random question from medium_list\n",
    "import random\n",
    "\n",
    "\n",
    "random.choice(questions_data)"
   ]
  },
  {
   "cell_type": "code",
   "execution_count": 38,
   "metadata": {},
   "outputs": [],
   "source": [
    "# store question_data in json file\n",
    "import json\n",
    "\n",
    "with open(\"amz.json\", \"w\") as file:\n",
    "    json.dump(questions_data, file)"
   ]
  },
  {
   "cell_type": "code",
   "execution_count": 39,
   "metadata": {},
   "outputs": [
    {
     "data": {
      "text/plain": [
       "518"
      ]
     },
     "execution_count": 39,
     "metadata": {},
     "output_type": "execute_result"
    }
   ],
   "source": [
    "len(questions_data)"
   ]
  },
  {
   "cell_type": "code",
   "execution_count": null,
   "metadata": {},
   "outputs": [],
   "source": []
  }
 ],
 "metadata": {
  "kernelspec": {
   "display_name": "base",
   "language": "python",
   "name": "python3"
  },
  "language_info": {
   "codemirror_mode": {
    "name": "ipython",
    "version": 3
   },
   "file_extension": ".py",
   "mimetype": "text/x-python",
   "name": "python",
   "nbconvert_exporter": "python",
   "pygments_lexer": "ipython3",
   "version": "3.12.2"
  }
 },
 "nbformat": 4,
 "nbformat_minor": 2
}
