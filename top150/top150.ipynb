{
 "cells": [
  {
   "cell_type": "markdown",
   "metadata": {},
   "source": [
    "give random question from leetcode top interview 150 list\n"
   ]
  },
  {
   "cell_type": "code",
   "execution_count": 1,
   "metadata": {},
   "outputs": [],
   "source": [
    "from bs4 import BeautifulSoup\n",
    "from selenium import webdriver\n",
    "import time\n",
    "from collections import defaultdict"
   ]
  },
  {
   "cell_type": "code",
   "execution_count": 2,
   "metadata": {},
   "outputs": [],
   "source": [
    "url = \"https://leetcode.com/studyplan/top-interview-150/\"\n",
    "\n",
    "# Get the rendered HTML\n",
    "driver = webdriver.Safari()\n",
    "driver.get(url)\n",
    "time.sleep(3)  # Adjust the sleep time as necessary\n",
    "\n",
    "# Get the rendered HTML\n",
    "html = driver.page_source\n",
    "\n",
    "# Use BeautifulSoup to parse the rendered HTML\n",
    "soup = BeautifulSoup(html, \"html.parser\")\n",
    "\n",
    "driver.quit()"
   ]
  },
  {
   "cell_type": "code",
   "execution_count": 3,
   "metadata": {},
   "outputs": [],
   "source": [
    "# store soup in a file\n",
    "with open(\"top150.html\", \"w\") as file:\n",
    "    file.write(str(soup))"
   ]
  },
  {
   "cell_type": "code",
   "execution_count": 4,
   "metadata": {},
   "outputs": [],
   "source": [
    "# load soup from file\n",
    "with open(\"top150.html\", \"r\") as file:\n",
    "    soup = BeautifulSoup(file, \"html.parser\")"
   ]
  },
  {
   "cell_type": "code",
   "execution_count": 5,
   "metadata": {},
   "outputs": [],
   "source": [
    "topic_elements = soup.find_all(\n",
    "    \"div\",\n",
    "    class_=\"w-full overflow-hidden rounded-lg border-[1.5px] border-lc-fill-02 dark:border-dark-lc-fill-02\",\n",
    ")\n",
    "\n",
    "\n",
    "# Create an empty list to store data\n",
    "question_data_by_topic = defaultdict(list)"
   ]
  },
  {
   "cell_type": "code",
   "execution_count": 6,
   "metadata": {},
   "outputs": [],
   "source": [
    "# Loop through each question topic\n",
    "for topic in topic_elements:\n",
    "    # Find the div with the specified class\n",
    "    topic_element = topic.find(\"div\", class_=\"text-[12px] font-medium\")\n",
    "\n",
    "    # Extract the text content\n",
    "    if topic_element:\n",
    "        topic_text = topic_element.text.strip()\n",
    "    else:\n",
    "        topic_text = None  # Handle the case where the element is not found\n",
    "\n",
    "    # print(topic_text)\n",
    "\n",
    "    question_elements = topic.find_all(\n",
    "        \"div\",\n",
    "        class_=\"relative flex h-full w-full items-center\",\n",
    "    )\n",
    "\n",
    "    for element in question_elements:\n",
    "        # Extract question name\n",
    "        question_name = element.find(\"div\", class_=\"truncate\").text.strip()\n",
    "\n",
    "        # Extract question link (assuming the link is always inside the 'a' tag within the same parent)\n",
    "        link_element = element.find_parent(\"div\").find(\"a\")\n",
    "        if link_element:\n",
    "            question_link = \"https://leetcode.com\" + link_element[\"href\"]\n",
    "        else:\n",
    "            question_link = None  # Handle the case where there's no link\n",
    "\n",
    "        # Extract question level (assuming it's in a 'p' tag within the same parent)\n",
    "        level_element = element.find_parent(\"div\").find(\"p\")\n",
    "        if level_element:\n",
    "            question_level = level_element.text.strip()\n",
    "        else:\n",
    "            question_level = None  # Handle the case where there's no level\n",
    "\n",
    "        # Append data to the list\n",
    "        question_data_by_topic[topic_text].append(\n",
    "            (question_name, question_link, question_level)\n",
    "        )\n",
    "\n",
    "# Print the list\n",
    "# print(question_data)"
   ]
  },
  {
   "cell_type": "code",
   "execution_count": 7,
   "metadata": {},
   "outputs": [],
   "source": [
    "question_data = []\n",
    "for topic, questions in question_data_by_topic.items():\n",
    "    for question in questions:\n",
    "        question_data.append(question)"
   ]
  },
  {
   "cell_type": "code",
   "execution_count": 8,
   "metadata": {},
   "outputs": [],
   "source": [
    "easy_list = []\n",
    "medium_list = []\n",
    "hard_list = []\n",
    "for question in question_data:\n",
    "    if question[2] == \"Easy\":\n",
    "        easy_list.append(question)\n",
    "    elif question[2] == \"Medium\":\n",
    "        medium_list.append(question)\n",
    "    elif question[2] == \"Hard\":\n",
    "        hard_list.append(question)"
   ]
  },
  {
   "cell_type": "code",
   "execution_count": 9,
   "metadata": {},
   "outputs": [],
   "source": [
    "import random"
   ]
  },
  {
   "cell_type": "code",
   "execution_count": 26,
   "metadata": {},
   "outputs": [
    {
     "data": {
      "text/plain": [
       "('Maximum Subarray',\n",
       " 'https://leetcode.com/problems/maximum-subarray/editorial/?envType=study-plan-v2&envId=top-interview-150',\n",
       " 'Medium')"
      ]
     },
     "execution_count": 26,
     "metadata": {},
     "output_type": "execute_result"
    }
   ],
   "source": [
    "# give random question from medium_list\n",
    "random.choice(medium_list)"
   ]
  },
  {
   "cell_type": "code",
   "execution_count": 10,
   "metadata": {},
   "outputs": [],
   "source": [
    "# store question_data_by_topic in json file\n",
    "import json\n",
    "\n",
    "with open(\"top150.json\", \"w\") as file:\n",
    "    json.dump(question_data_by_topic, file)"
   ]
  },
  {
   "cell_type": "code",
   "execution_count": 15,
   "metadata": {},
   "outputs": [
    {
     "data": {
      "text/plain": [
       "150"
      ]
     },
     "execution_count": 15,
     "metadata": {},
     "output_type": "execute_result"
    }
   ],
   "source": [
    "sum(map(lambda x: len(x), question_data_by_topic.values()))"
   ]
  },
  {
   "cell_type": "code",
   "execution_count": null,
   "metadata": {},
   "outputs": [],
   "source": []
  }
 ],
 "metadata": {
  "kernelspec": {
   "display_name": "base",
   "language": "python",
   "name": "python3"
  },
  "language_info": {
   "codemirror_mode": {
    "name": "ipython",
    "version": 3
   },
   "file_extension": ".py",
   "mimetype": "text/x-python",
   "name": "python",
   "nbconvert_exporter": "python",
   "pygments_lexer": "ipython3",
   "version": "3.12.2"
  }
 },
 "nbformat": 4,
 "nbformat_minor": 2
}
